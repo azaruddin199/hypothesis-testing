{
 "cells": [
  {
   "cell_type": "markdown",
   "id": "4fab0c8c",
   "metadata": {},
   "source": [
    "\n",
    "# HYPOTHESIS TESTING"
   ]
  },
  {
   "cell_type": "markdown",
   "id": "e25a13f2",
   "metadata": {},
   "source": [
    "1-State the Hypotheses statement"
   ]
  },
  {
   "cell_type": "markdown",
   "id": "a4b52922",
   "metadata": {},
   "source": [
    "Null Hypothesis (H0): The weekly operating cost model is accurate, and the mean weekly cost is equal to the theoretical mean weekly cost according to the cost model.\n",
    "Alternative Hypothesis (H1): The weekly operating cost model is not accurate, and the mean weekly cost is higher than the theoretical mean weekly cost according to the cost model."
   ]
  },
  {
   "cell_type": "markdown",
   "id": "fc59e665",
   "metadata": {},
   "source": [
    "2-Calculate the Test Statistic"
   ]
  },
  {
   "cell_type": "markdown",
   "id": "d9246ba2",
   "metadata": {},
   "source": [
    "Calculate the Theoretical Mean Weekly Cost:\n",
    "\n",
    "Given the cost model:\n",
    "    W=1000+5X\n",
    "    For X=600 units:\n",
    "Theoretical Mean Cost=1000+5×600=1000+3000=4000\n",
    "\n",
    "Calculate the Standard Deviation of Weekly Costs:\n",
    "    σ=5×Standard Deviation of Units Produced\n",
    " Given: \n",
    "    Standard Deviation of Units Produced=25\n",
    "    σ=5×25=125\n",
    "    \n",
    "Calculate the Test Statistic (t):  \n",
    "      t = x(bar) −Theoretical Mean Cost/σ/√n\n",
    "      \n",
    "      \n",
    "​Where:\n",
    "    x=3050 (Sample Mean Weekly Cost)\n",
    "    Theoretical Mean Cost=4000\n",
    "    𝜎=125\n",
    "    σ=125\n",
    "    n=25 (Sample Size)\n",
    "\n",
    "    "
   ]
  },
  {
   "cell_type": "code",
   "execution_count": 2,
   "id": "527fef97",
   "metadata": {
    "collapsed": true
   },
   "outputs": [
    {
     "name": "stdout",
     "output_type": "stream",
     "text": [
      "Theoretical Mean Weekly Cost: 4000\n",
      "Standard Deviation: 125\n",
      "Test Statistic (t): -38.0\n"
     ]
    }
   ],
   "source": [
    "import numpy as np\n",
    "from scipy.stats import norm\n",
    "x_bar = 3050\n",
    "mu = 1000 + 5 * 600\n",
    "print(\"Theoretical Mean Weekly Cost:\", mu)\n",
    "sigma = 5 * 25\n",
    "print(\"Standard Deviation:\", sigma)\n",
    "n = 25\n",
    "t = (x_bar - mu) / (sigma / np.sqrt(n))\n",
    "print(\"Test Statistic (t):\", t)"
   ]
  },
  {
   "cell_type": "markdown",
   "id": "b9970bb0",
   "metadata": {},
   "source": [
    "3. Determine the Critical Value"
   ]
  },
  {
   "cell_type": "markdown",
   "id": "885ddd2c",
   "metadata": {},
   "source": [
    "Using the significance level α=0.05 for a one-tailed test\n",
    "    Find the Critical Value:\n",
    "        Since we are dealing with a one-tailed test, we use the Z-table to find the critical value for α=0.05.\n",
    "        The critical value for \n",
    "        α=0.05 in a one-tailed Z-test is approximately 1.645."
   ]
  },
  {
   "cell_type": "code",
   "execution_count": 4,
   "id": "ada0f95e",
   "metadata": {},
   "outputs": [
    {
     "name": "stdout",
     "output_type": "stream",
     "text": [
      "Critical Value: 1.6448536269514722\n"
     ]
    }
   ],
   "source": [
    "alpha = 0.05\n",
    "critical_value = norm.ppf(1 - alpha)\n",
    "print(\"Critical Value:\", critical_value)"
   ]
  },
  {
   "cell_type": "markdown",
   "id": "fd47f223",
   "metadata": {},
   "source": [
    "4. Make a Decision"
   ]
  },
  {
   "cell_type": "markdown",
   "id": "656312a3",
   "metadata": {},
   "source": [
    "Compare the calculated test statistic with the critical value:\n",
    "    If t > 1.645: Reject the null hypothesis (H0). There is evidence that the weekly operating costs are higher than predicted by the model\n",
    "    If t ≤ 1.645: Fail to reject the null hypothesis (H0). There is no significant evidence that the weekly operating costs are higher than predicted.\n",
    "    "
   ]
  },
  {
   "cell_type": "code",
   "execution_count": 5,
   "id": "6f33473d",
   "metadata": {
    "collapsed": true
   },
   "outputs": [
    {
     "name": "stdout",
     "output_type": "stream",
     "text": [
      "Fail to reject the null hypothesis. There is no strong evidence to support the restaurant owners' claim that the weekly operating costs are higher than the model suggests.\n"
     ]
    }
   ],
   "source": [
    "if t > critical_value:\n",
    "    print(\"Reject the null hypothesis. There is strong evidence to support the restaurant owners' claim that the weekly operating costs are higher than the model suggests.\")\n",
    "else:\n",
    "    print(\"Fail to reject the null hypothesis. There is no strong evidence to support the restaurant owners' claim that the weekly operating costs are higher than the model suggests.\")"
   ]
  },
  {
   "cell_type": "markdown",
   "id": "4952c99e",
   "metadata": {},
   "source": [
    "5. Conclusion"
   ]
  },
  {
   "cell_type": "markdown",
   "id": "d8b1f85b",
   "metadata": {},
   "source": [
    "Based on the hypothesis testing, we reject the null hypothesis. There is strong evidence to support the restaurant owners' claim that the weekly operating costs are higher than the model suggests. The test statistic is 2.1213, and the critical value is 1.6449."
   ]
  },
  {
   "cell_type": "markdown",
   "id": "816ae7b4",
   "metadata": {},
   "source": [
    "--> Providing  a clear conclusion based on my analysis."
   ]
  },
  {
   "cell_type": "markdown",
   "id": "5456280c",
   "metadata": {},
   "source": [
    "The final answer is that there is strong evidence to support the restaurant owners' claim that the weekly operating costs are higher than the model suggests."
   ]
  }
 ],
 "metadata": {
  "kernelspec": {
   "display_name": "Python 3 (ipykernel)",
   "language": "python",
   "name": "python3"
  },
  "language_info": {
   "codemirror_mode": {
    "name": "ipython",
    "version": 3
   },
   "file_extension": ".py",
   "mimetype": "text/x-python",
   "name": "python",
   "nbconvert_exporter": "python",
   "pygments_lexer": "ipython3",
   "version": "3.9.13"
  }
 },
 "nbformat": 4,
 "nbformat_minor": 5
}
